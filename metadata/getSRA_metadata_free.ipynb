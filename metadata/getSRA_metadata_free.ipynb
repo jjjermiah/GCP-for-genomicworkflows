{
 "cells": [
  {
   "cell_type": "markdown",
   "metadata": {},
   "source": [
    "# Get table of SRA accessions and metadata through query search \n",
    "\n",
    "#### FREE alternative to using Google BigQuery \n",
    "Though, it should be noted that the first 1TB of query on BigQuery is free per month, and the metadata for the SRA data on nih is 50GB.\n",
    "\n",
    "pysradb has some useful functions for data from other sources, so this might be useful for non SRA data \n",
    "\n",
    "It also creates some pretty cool heatmaps of the data \n",
    "\n",
    "This script is inspired by https://github.com/saketkc/pysradb/blob/develop/notebooks/09.Query_Search.ipynb\n",
    "\n",
    "# TODO:: finish notebook to obtain same outputs as the BigQuery notebook. "
   ]
  },
  {
   "cell_type": "code",
   "execution_count": null,
   "metadata": {},
   "outputs": [],
   "source": [
    "import pysradb.search as ps\n",
    "help(ps.SraSearch)"
   ]
  },
  {
   "cell_type": "code",
   "execution_count": null,
   "metadata": {},
   "outputs": [],
   "source": [
    "import pysradb.search as ps\n",
    "\n",
    "# remove any previous search results\n",
    "try:\n",
    "    del instance\n",
    "except:\n",
    "    pass\n",
    "\n",
    "# CCLE Bio Project Accession https://www.ncbi.nlm.nih.gov/bioproject/?term=PRJNA523380\n",
    "# BioProjectAccession = \"PRJNA523380\"\n",
    "\n",
    "# set properties of what we want to serach \n",
    "# see appendix below for indexes of each property\n",
    "# note: setting max return to 3000, if less than 3000 are found, only those will be returned\n",
    "instance = ps.SraSearch(verbosity=3, \n",
    "          return_max=5000, \n",
    "          query=\"PRJNA523380\", \n",
    "        #   accession=None, \n",
    "        #   organism=None, \n",
    "        #   layout=None,\n",
    "        #   mbases=None, \n",
    "        #   publication_date=None, \n",
    "        #   platform=\"illumina\", \n",
    "        #   selection=None, \n",
    "        #   source=\"transcriptomic\", \n",
    "        #   strategy=\"rna seq\", \n",
    "        #   title=None, \n",
    "          suppress_validation=False)"
   ]
  },
  {
   "cell_type": "code",
   "execution_count": null,
   "metadata": {},
   "outputs": [],
   "source": [
    "# start the search\n",
    "# may take some time\n",
    "instance.search()"
   ]
  },
  {
   "cell_type": "code",
   "execution_count": null,
   "metadata": {},
   "outputs": [],
   "source": [
    "instance.show_result_statistics()"
   ]
  },
  {
   "cell_type": "code",
   "execution_count": null,
   "metadata": {},
   "outputs": [],
   "source": [
    "import pandas as pd\n",
    "# get the dataframe\n",
    "df = instance.get_df()\n",
    "\n",
    "# set dataframe column limit to unlimited\n",
    "pd.set_option('display.max_columns', None)\n",
    "\n",
    "df\n",
    "\n"
   ]
  },
  {
   "cell_type": "code",
   "execution_count": null,
   "metadata": {},
   "outputs": [],
   "source": [
    "# visualize here:\n",
    "# also saves plots in ./\n",
    "instance.visualise_results(graph_types=(\"all\",), \n",
    "                            show=False, \n",
    "                            saveto=\"./search_plots/\"\n",
    ")\n",
    "\n",
    "# \n",
    "# get query plots to manipulate\n",
    "query_plots = instance.get_plot_objects() "
   ]
  },
  {
   "cell_type": "code",
   "execution_count": null,
   "metadata": {},
   "outputs": [],
   "source": [
    "source_list=['genomic', \n",
    "             'genomic single cell', \n",
    "             'metagenomic', \n",
    "             'metatranscriptomic', \n",
    "             'other', \n",
    "             'synthetic', \n",
    "             'transcriptomic', \n",
    "             'transcriptomic single cell', \n",
    "             'viral rna']\n",
    "# \n",
    "source = \"transcriptomic\"\n",
    "\n",
    "\n",
    "\n",
    "\n",
    "platform_list = [\"abi solid\", \n",
    "             \"bgiseq\", \n",
    "             \"capillary\", \n",
    "             \"complete genomics\", \n",
    "             \"dnbseq\", \n",
    "             \"helicos\", \n",
    "             \"illumina\", \n",
    "             \"ion torrent\", \n",
    "             \"ls454\", \n",
    "             \"oxford nanopore\", \n",
    "             \"pacbio smrt\"]\n",
    "\n",
    "# \n",
    "platform = \"illumina\"\n",
    "\n",
    "strategy_list = [\n",
    "                \"amplicon\",\n",
    "                \"atac seq\",\n",
    "                \"bisulfite seq\",\n",
    "                \"chia pet\",\n",
    "                \"chip\",\n",
    "                \"chip seq\",\n",
    "                \"clone\",\n",
    "                \"cloneend\",\n",
    "                \"cts\",\n",
    "                \"dnase hypersensitivity\",\n",
    "                \"est\",\n",
    "                \"faire seq\",\n",
    "                \"finishing\",\n",
    "                \"fl cdna\",\n",
    "                \"gbs\",\n",
    "                \"hi c\",\n",
    "                \"mbd seq\",\n",
    "                \"medip seq\",\n",
    "                \"mirna seq\",\n",
    "                \"mnase seq\",\n",
    "                \"mre seq\",\n",
    "                \"ncrna seq\",\n",
    "                \"other\",\n",
    "                \"poolclone\",\n",
    "                \"rad seq\",\n",
    "                \"rip seq\",\n",
    "                \"rna seq\",\n",
    "                \"selex\",\n",
    "                \"synthetic long read\",\n",
    "                \"targeted capture\",\n",
    "                \"tethered chromatin conformation capture\",\n",
    "                \"tn seq\",\n",
    "                \"validation\",\n",
    "                \"wcs\",\n",
    "                \"wga\",\n",
    "                \"wgs\",\n",
    "                \"wxs\"\n",
    "]\n",
    "\n",
    "strategy = \"rna seq\"\n"
   ]
  }
 ],
 "metadata": {
  "kernelspec": {
   "display_name": "SRAsnakemake",
   "language": "python",
   "name": "python3"
  },
  "language_info": {
   "codemirror_mode": {
    "name": "ipython",
    "version": 3
   },
   "file_extension": ".py",
   "mimetype": "text/x-python",
   "name": "python",
   "nbconvert_exporter": "python",
   "pygments_lexer": "ipython3",
   "version": "3.11.4"
  },
  "orig_nbformat": 4
 },
 "nbformat": 4,
 "nbformat_minor": 2
}
