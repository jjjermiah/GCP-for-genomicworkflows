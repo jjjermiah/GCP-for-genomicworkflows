{
 "cells": [
  {
   "cell_type": "markdown",
   "metadata": {},
   "source": [
    "# Notebook to investigate the reference sequences for each accession"
   ]
  },
  {
   "cell_type": "code",
   "execution_count": 1,
   "metadata": {},
   "outputs": [],
   "source": [
    "import pandas as pd"
   ]
  },
  {
   "cell_type": "code",
   "execution_count": 2,
   "metadata": {},
   "outputs": [],
   "source": [
    "#\n",
    "ncbi_sra_runtable = pd.read_csv('../metadata/sra_metadata_raw.csv', sep=',')"
   ]
  },
  {
   "cell_type": "markdown",
   "metadata": {},
   "source": [
    "# Manually getting SRA accession IDs"
   ]
  },
  {
   "cell_type": "code",
   "execution_count": 3,
   "metadata": {},
   "outputs": [],
   "source": [
    "# get list of folders within google cloud storage bucket folder that start with SRR\n",
    "SRA_folders = !gsutil ls gs://orcestra-archive/rawdata/RNA/SRA/"
   ]
  },
  {
   "cell_type": "code",
   "execution_count": 4,
   "metadata": {},
   "outputs": [
    {
     "name": "stdout",
     "output_type": "stream",
     "text": [
      "total SRA folders = 1019\n",
      "First five are:\n",
      "['SRR8615222', 'SRR8615223', 'SRR8615224', 'SRR8615225', 'SRR8615226']\n"
     ]
    }
   ],
   "source": [
    "# get basename of every path in SRA_folders\n",
    "SRA_basenames = [x.split('/')[-2] for x in SRA_folders]\n",
    "# remove all basenames that are not in the 'Run' column of the ncbi_sra_runtable\n",
    "SRA_basenames = [x for x in SRA_basenames if x in ncbi_sra_runtable['Run'].values]\n",
    "\n",
    "print(\"total SRA folders = \" + str(len(SRA_basenames)))\n",
    "print(\"First five are:\")\n",
    "print(SRA_basenames[0:5])\n"
   ]
  },
  {
   "cell_type": "markdown",
   "metadata": {},
   "source": [
    "# getting SRA accessions from snakemake"
   ]
  },
  {
   "cell_type": "code",
   "execution_count": 7,
   "metadata": {},
   "outputs": [
    {
     "name": "stdout",
     "output_type": "stream",
     "text": [
      "1019\n"
     ]
    }
   ],
   "source": [
    "# create a dictionary of SRA basenames and their corresponding RefSeq accession numbers\n",
    "import concurrent.futures\n",
    "# Create a ThreadPoolExecutor with the desired number of threads (e.g., 4)\n",
    "executor = concurrent.futures.ThreadPoolExecutor(max_workers=6)\n",
    "\n",
    "SRA_to_RefSeq = {}\n",
    "\n",
    "def process_sra_acc(sra_acc):\n",
    "    if sra_acc in SRA_basenames:\n",
    "        x = !align-info {sra_acc}\n",
    "        acc_refs = {}\n",
    "        for i in range(len(x)):\n",
    "            if 'refseq' in x[i]:\n",
    "                file_name = x[i].split(',')[0]\n",
    "                file_url  = x[i].split(',')[-1].split('::')[-1]\n",
    "                acc_refs[file_name] = file_url\n",
    "        SRA_to_RefSeq[sra_acc] = acc_refs           \n",
    "        return SRA_to_RefSeq[sra_acc]\n",
    "# Submit tasks to the executor for each Run entry in ncbi_sra_runtable\n",
    "# for i in range(len(SRA_basenames)):\n",
    "print(len(SRA_basenames))\n",
    "for i in range(2):\n",
    "    sra_acc = SRA_basenames[i]\n",
    "    executor.submit(process_sra_acc, sra_acc)\n",
    "\n",
    "# Shutdown the executor and wait for all tasks to complete\n",
    "executor.shutdown(wait=True)"
   ]
  },
  {
   "cell_type": "code",
   "execution_count": 48,
   "metadata": {},
   "outputs": [
    {
     "name": "stdout",
     "output_type": "stream",
     "text": [
      "First five entries in SRA_to_RefSeq:\n",
      "[('SRR8615273', {'CM000663.1': 'https://sra-download.ncbi.nlm.nih.gov/traces/refseq/CM000663.1', 'CM000664.1': 'https://sra-download.ncbi.nlm.nih.gov/traces/refseq/CM000664.1', 'CM000665.1': 'https://sra-download.ncbi.nlm.nih.gov/traces/refseq/CM000665.1', 'CM000666.1': 'https://sra-download.ncbi.nlm.nih.gov/traces/refseq/CM000666.1', 'CM000667.1': 'https://sra-download.ncbi.nlm.nih.gov/traces/refseq/CM000667.1', 'CM000668.1': 'https://sra-download.ncbi.nlm.nih.gov/traces/refseq/CM000668.1', 'CM000669.1': 'https://sra-download.ncbi.nlm.nih.gov/traces/refseq/CM000669.1', 'CM000670.1': 'https://sra-download.ncbi.nlm.nih.gov/traces/refseq/CM000670.1', 'CM000671.1': 'https://sra-download.ncbi.nlm.nih.gov/traces/refseq/CM000671.1', 'CM000672.1': 'https://sra-download.ncbi.nlm.nih.gov/traces/refseq/CM000672.1', 'CM000673.1': 'https://sra-download.ncbi.nlm.nih.gov/traces/refseq/CM000673.1', 'CM000674.1': 'https://sra-download.ncbi.nlm.nih.gov/traces/refseq/CM000674.1', 'CM000675.1': 'https://sra-download.ncbi.nlm.nih.gov/traces/refseq/CM000675.1', 'CM000676.1': 'https://sra-download.ncbi.nlm.nih.gov/traces/refseq/CM000676.1', 'CM000677.1': 'https://sra-download.ncbi.nlm.nih.gov/traces/refseq/CM000677.1', 'CM000678.1': 'https://sra-download.ncbi.nlm.nih.gov/traces/refseq/CM000678.1', 'CM000679.1': 'https://sra-download.ncbi.nlm.nih.gov/traces/refseq/CM000679.1', 'CM000680.1': 'https://sra-download.ncbi.nlm.nih.gov/traces/refseq/CM000680.1', 'CM000681.1': 'https://sra-download.ncbi.nlm.nih.gov/traces/refseq/CM000681.1', 'CM000682.1': 'https://sra-download.ncbi.nlm.nih.gov/traces/refseq/CM000682.1', 'CM000683.1': 'https://sra-download.ncbi.nlm.nih.gov/traces/refseq/CM000683.1', 'CM000684.1': 'https://sra-download.ncbi.nlm.nih.gov/traces/refseq/CM000684.1', 'CM000685.1': 'https://sra-download.ncbi.nlm.nih.gov/traces/refseq/CM000685.1', 'CM000686.1': 'https://sra-download.ncbi.nlm.nih.gov/traces/refseq/CM000686.1', 'GL000191.1': 'https://sra-download.ncbi.nlm.nih.gov/traces/refseq/GL000191.1', 'GL000192.1': 'https://sra-download.ncbi.nlm.nih.gov/traces/refseq/GL000192.1', 'GL000193.1': 'https://sra-download.ncbi.nlm.nih.gov/traces/refseq/GL000193.1', 'GL000194.1': 'https://sra-download.ncbi.nlm.nih.gov/traces/refseq/GL000194.1', 'GL000195.1': 'https://sra-download.ncbi.nlm.nih.gov/traces/refseq/GL000195.1', 'GL000196.1': 'https://sra-download.ncbi.nlm.nih.gov/traces/refseq/GL000196.1', 'GL000197.1': 'https://sra-download.ncbi.nlm.nih.gov/traces/refseq/GL000197.1', 'GL000198.1': 'https://sra-download.ncbi.nlm.nih.gov/traces/refseq/GL000198.1', 'GL000199.1': 'https://sra-download.ncbi.nlm.nih.gov/traces/refseq/GL000199.1', 'GL000200.1': 'https://sra-download.ncbi.nlm.nih.gov/traces/refseq/GL000200.1', 'GL000201.1': 'https://sra-download.ncbi.nlm.nih.gov/traces/refseq/GL000201.1', 'GL000202.1': 'https://sra-download.ncbi.nlm.nih.gov/traces/refseq/GL000202.1', 'GL000204.1': 'https://sra-download.ncbi.nlm.nih.gov/traces/refseq/GL000204.1', 'GL000205.1': 'https://sra-download.ncbi.nlm.nih.gov/traces/refseq/GL000205.1', 'GL000206.1': 'https://sra-download.ncbi.nlm.nih.gov/traces/refseq/GL000206.1', 'GL000208.1': 'https://sra-download.ncbi.nlm.nih.gov/traces/refseq/GL000208.1', 'GL000211.1': 'https://sra-download.ncbi.nlm.nih.gov/traces/refseq/GL000211.1', 'GL000212.1': 'https://sra-download.ncbi.nlm.nih.gov/traces/refseq/GL000212.1', 'GL000213.1': 'https://sra-download.ncbi.nlm.nih.gov/traces/refseq/GL000213.1', 'GL000214.1': 'https://sra-download.ncbi.nlm.nih.gov/traces/refseq/GL000214.1', 'GL000215.1': 'https://sra-download.ncbi.nlm.nih.gov/traces/refseq/GL000215.1', 'GL000216.1': 'https://sra-download.ncbi.nlm.nih.gov/traces/refseq/GL000216.1', 'GL000217.1': 'https://sra-download.ncbi.nlm.nih.gov/traces/refseq/GL000217.1', 'GL000218.1': 'https://sra-download.ncbi.nlm.nih.gov/traces/refseq/GL000218.1', 'GL000219.1': 'https://sra-download.ncbi.nlm.nih.gov/traces/refseq/GL000219.1', 'GL000220.1': 'https://sra-download.ncbi.nlm.nih.gov/traces/refseq/GL000220.1', 'GL000221.1': 'https://sra-download.ncbi.nlm.nih.gov/traces/refseq/GL000221.1', 'GL000222.1': 'https://sra-download.ncbi.nlm.nih.gov/traces/refseq/GL000222.1', 'GL000223.1': 'https://sra-download.ncbi.nlm.nih.gov/traces/refseq/GL000223.1', 'GL000224.1': 'https://sra-download.ncbi.nlm.nih.gov/traces/refseq/GL000224.1', 'GL000225.1': 'https://sra-download.ncbi.nlm.nih.gov/traces/refseq/GL000225.1', 'GL000226.1': 'https://sra-download.ncbi.nlm.nih.gov/traces/refseq/GL000226.1', 'GL000227.1': 'https://sra-download.ncbi.nlm.nih.gov/traces/refseq/GL000227.1', 'GL000228.1': 'https://sra-download.ncbi.nlm.nih.gov/traces/refseq/GL000228.1', 'GL000229.1': 'https://sra-download.ncbi.nlm.nih.gov/traces/refseq/GL000229.1', 'GL000230.1': 'https://sra-download.ncbi.nlm.nih.gov/traces/refseq/GL000230.1', 'GL000231.1': 'https://sra-download.ncbi.nlm.nih.gov/traces/refseq/GL000231.1', 'GL000232.1': 'https://sra-download.ncbi.nlm.nih.gov/traces/refseq/GL000232.1', 'GL000233.1': 'https://sra-download.ncbi.nlm.nih.gov/traces/refseq/GL000233.1', 'GL000234.1': 'https://sra-download.ncbi.nlm.nih.gov/traces/refseq/GL000234.1', 'GL000235.1': 'https://sra-download.ncbi.nlm.nih.gov/traces/refseq/GL000235.1', 'GL000237.1': 'https://sra-download.ncbi.nlm.nih.gov/traces/refseq/GL000237.1', 'GL000240.1': 'https://sra-download.ncbi.nlm.nih.gov/traces/refseq/GL000240.1', 'GL000241.1': 'https://sra-download.ncbi.nlm.nih.gov/traces/refseq/GL000241.1', 'GL000242.1': 'https://sra-download.ncbi.nlm.nih.gov/traces/refseq/GL000242.1', 'GL000243.1': 'https://sra-download.ncbi.nlm.nih.gov/traces/refseq/GL000243.1', 'GL000244.1': 'https://sra-download.ncbi.nlm.nih.gov/traces/refseq/GL000244.1', 'GL000245.1': 'https://sra-download.ncbi.nlm.nih.gov/traces/refseq/GL000245.1', 'GL000246.1': 'https://sra-download.ncbi.nlm.nih.gov/traces/refseq/GL000246.1', 'GL000247.1': 'https://sra-download.ncbi.nlm.nih.gov/traces/refseq/GL000247.1', 'GL000248.1': 'https://sra-download.ncbi.nlm.nih.gov/traces/refseq/GL000248.1', 'GL000249.1': 'https://sra-download.ncbi.nlm.nih.gov/traces/refseq/GL000249.1', 'NC_007605.1': 'https://sra-download.ncbi.nlm.nih.gov/traces/refseq/NC_007605.1', 'NC_012920.1': 'https://sra-download.ncbi.nlm.nih.gov/traces/refseq/NC_012920.1'}), ('SRR8615272', {'CM000663.1': 'https://sra-download.ncbi.nlm.nih.gov/traces/refseq/CM000663.1', 'CM000664.1': 'https://sra-download.ncbi.nlm.nih.gov/traces/refseq/CM000664.1', 'CM000665.1': 'https://sra-download.ncbi.nlm.nih.gov/traces/refseq/CM000665.1', 'CM000666.1': 'https://sra-download.ncbi.nlm.nih.gov/traces/refseq/CM000666.1', 'CM000667.1': 'https://sra-download.ncbi.nlm.nih.gov/traces/refseq/CM000667.1', 'CM000668.1': 'https://sra-download.ncbi.nlm.nih.gov/traces/refseq/CM000668.1', 'CM000669.1': 'https://sra-download.ncbi.nlm.nih.gov/traces/refseq/CM000669.1', 'CM000670.1': 'https://sra-download.ncbi.nlm.nih.gov/traces/refseq/CM000670.1', 'CM000671.1': 'https://sra-download.ncbi.nlm.nih.gov/traces/refseq/CM000671.1', 'CM000672.1': 'https://sra-download.ncbi.nlm.nih.gov/traces/refseq/CM000672.1', 'CM000673.1': 'https://sra-download.ncbi.nlm.nih.gov/traces/refseq/CM000673.1', 'CM000674.1': 'https://sra-download.ncbi.nlm.nih.gov/traces/refseq/CM000674.1', 'CM000675.1': 'https://sra-download.ncbi.nlm.nih.gov/traces/refseq/CM000675.1', 'CM000676.1': 'https://sra-download.ncbi.nlm.nih.gov/traces/refseq/CM000676.1', 'CM000677.1': 'https://sra-download.ncbi.nlm.nih.gov/traces/refseq/CM000677.1', 'CM000678.1': 'https://sra-download.ncbi.nlm.nih.gov/traces/refseq/CM000678.1', 'CM000679.1': 'https://sra-download.ncbi.nlm.nih.gov/traces/refseq/CM000679.1', 'CM000680.1': 'https://sra-download.ncbi.nlm.nih.gov/traces/refseq/CM000680.1', 'CM000682.1': 'https://sra-download.ncbi.nlm.nih.gov/traces/refseq/CM000682.1', 'CM000683.1': 'https://sra-download.ncbi.nlm.nih.gov/traces/refseq/CM000683.1', 'CM000684.1': 'https://sra-download.ncbi.nlm.nih.gov/traces/refseq/CM000684.1', 'CM000685.1': 'https://sra-download.ncbi.nlm.nih.gov/traces/refseq/CM000685.1', 'CM000686.1': 'https://sra-download.ncbi.nlm.nih.gov/traces/refseq/CM000686.1', 'GL000191.1': 'https://sra-download.ncbi.nlm.nih.gov/traces/refseq/GL000191.1', 'GL000192.1': 'https://sra-download.ncbi.nlm.nih.gov/traces/refseq/GL000192.1', 'GL000193.1': 'https://sra-download.ncbi.nlm.nih.gov/traces/refseq/GL000193.1', 'GL000194.1': 'https://sra-download.ncbi.nlm.nih.gov/traces/refseq/GL000194.1', 'GL000195.1': 'https://sra-download.ncbi.nlm.nih.gov/traces/refseq/GL000195.1', 'GL000196.1': 'https://sra-download.ncbi.nlm.nih.gov/traces/refseq/GL000196.1', 'GL000199.1': 'https://sra-download.ncbi.nlm.nih.gov/traces/refseq/GL000199.1', 'GL000200.1': 'https://sra-download.ncbi.nlm.nih.gov/traces/refseq/GL000200.1', 'GL000203.1': 'https://sra-download.ncbi.nlm.nih.gov/traces/refseq/GL000203.1', 'GL000205.1': 'https://sra-download.ncbi.nlm.nih.gov/traces/refseq/GL000205.1', 'GL000206.1': 'https://sra-download.ncbi.nlm.nih.gov/traces/refseq/GL000206.1', 'GL000207.1': 'https://sra-download.ncbi.nlm.nih.gov/traces/refseq/GL000207.1', 'GL000208.1': 'https://sra-download.ncbi.nlm.nih.gov/traces/refseq/GL000208.1', 'GL000211.1': 'https://sra-download.ncbi.nlm.nih.gov/traces/refseq/GL000211.1', 'GL000212.1': 'https://sra-download.ncbi.nlm.nih.gov/traces/refseq/GL000212.1', 'GL000213.1': 'https://sra-download.ncbi.nlm.nih.gov/traces/refseq/GL000213.1', 'GL000214.1': 'https://sra-download.ncbi.nlm.nih.gov/traces/refseq/GL000214.1', 'GL000215.1': 'https://sra-download.ncbi.nlm.nih.gov/traces/refseq/GL000215.1', 'GL000217.1': 'https://sra-download.ncbi.nlm.nih.gov/traces/refseq/GL000217.1', 'GL000218.1': 'https://sra-download.ncbi.nlm.nih.gov/traces/refseq/GL000218.1', 'GL000219.1': 'https://sra-download.ncbi.nlm.nih.gov/traces/refseq/GL000219.1', 'GL000220.1': 'https://sra-download.ncbi.nlm.nih.gov/traces/refseq/GL000220.1', 'GL000221.1': 'https://sra-download.ncbi.nlm.nih.gov/traces/refseq/GL000221.1', 'GL000222.1': 'https://sra-download.ncbi.nlm.nih.gov/traces/refseq/GL000222.1', 'GL000223.1': 'https://sra-download.ncbi.nlm.nih.gov/traces/refseq/GL000223.1', 'GL000224.1': 'https://sra-download.ncbi.nlm.nih.gov/traces/refseq/GL000224.1', 'GL000225.1': 'https://sra-download.ncbi.nlm.nih.gov/traces/refseq/GL000225.1', 'GL000226.1': 'https://sra-download.ncbi.nlm.nih.gov/traces/refseq/GL000226.1', 'GL000227.1': 'https://sra-download.ncbi.nlm.nih.gov/traces/refseq/GL000227.1', 'GL000228.1': 'https://sra-download.ncbi.nlm.nih.gov/traces/refseq/GL000228.1', 'GL000229.1': 'https://sra-download.ncbi.nlm.nih.gov/traces/refseq/GL000229.1', 'GL000230.1': 'https://sra-download.ncbi.nlm.nih.gov/traces/refseq/GL000230.1', 'GL000231.1': 'https://sra-download.ncbi.nlm.nih.gov/traces/refseq/GL000231.1', 'GL000232.1': 'https://sra-download.ncbi.nlm.nih.gov/traces/refseq/GL000232.1', 'GL000233.1': 'https://sra-download.ncbi.nlm.nih.gov/traces/refseq/GL000233.1', 'GL000240.1': 'https://sra-download.ncbi.nlm.nih.gov/traces/refseq/GL000240.1', 'GL000241.1': 'https://sra-download.ncbi.nlm.nih.gov/traces/refseq/GL000241.1', 'GL000242.1': 'https://sra-download.ncbi.nlm.nih.gov/traces/refseq/GL000242.1', 'GL000243.1': 'https://sra-download.ncbi.nlm.nih.gov/traces/refseq/GL000243.1', 'GL000244.1': 'https://sra-download.ncbi.nlm.nih.gov/traces/refseq/GL000244.1', 'GL000245.1': 'https://sra-download.ncbi.nlm.nih.gov/traces/refseq/GL000245.1', 'GL000246.1': 'https://sra-download.ncbi.nlm.nih.gov/traces/refseq/GL000246.1', 'GL000247.1': 'https://sra-download.ncbi.nlm.nih.gov/traces/refseq/GL000247.1', 'GL000249.1': 'https://sra-download.ncbi.nlm.nih.gov/traces/refseq/GL000249.1', 'NC_007605.1': 'https://sra-download.ncbi.nlm.nih.gov/traces/refseq/NC_007605.1', 'NC_012920.1': 'https://sra-download.ncbi.nlm.nih.gov/traces/refseq/NC_012920.1'})]\n"
     ]
    }
   ],
   "source": [
    "# write the dictionary to a json file for later use\n",
    "import json\n",
    "with open('../metadata/SRA_to_RefSeq.json', 'w') as fp:\n",
    "    json.dump(SRA_to_RefSeq, fp)\n",
    "    \n",
    "# read the json file back in to make sure it worked\n",
    "with open('../metadata/SRA_to_RefSeq.json', 'r') as fp:\n",
    "    SRA_to_RefSeq = json.load(fp)\n",
    "    \n",
    "# print the first 5 entries\n",
    "print(\"First five entries in SRA_to_RefSeq:\")\n",
    "print(list(SRA_to_RefSeq.items())[0:5])\n"
   ]
  },
  {
   "cell_type": "code",
   "execution_count": 49,
   "metadata": {},
   "outputs": [],
   "source": [
    "# Create a set to store the unique key-value pairs\n",
    "# Initialize an empty dictionary to store the merged key-value pairs\n",
    "merged_dict = {}\n",
    "\n",
    "# Iterate through the outer dictionary\n",
    "for outer_key, inner_dict in SRA_to_RefSeq.items():\n",
    "    # Merge the inner dictionary into the merged_dict\n",
    "    merged_dict.update(inner_dict)\n",
    "\n",
    "# Print the merged dictionary\n",
    "# print(merged_dict)\n",
    "# unique_pairs = list(unique_pairs)\n",
    "# unique_pairs[0]\n",
    "cachefiles = pd.DataFrame(merged_dict.items())\n",
    "cachefiles\n",
    "\n",
    "cachefiles.to_csv('../metadata/SRA_to_RefSeq.csv', index=False, header=False)"
   ]
  },
  {
   "cell_type": "code",
   "execution_count": null,
   "metadata": {},
   "outputs": [],
   "source": []
  },
  {
   "cell_type": "code",
   "execution_count": null,
   "metadata": {},
   "outputs": [],
   "source": []
  },
  {
   "cell_type": "code",
   "execution_count": 50,
   "metadata": {},
   "outputs": [
    {
     "data": {
      "text/plain": [
       "[('GL000220.1',\n",
       "  'https://sra-download.ncbi.nlm.nih.gov/traces/refseq/GL000220.1'),\n",
       " ('GL000193.1',\n",
       "  'https://sra-download.ncbi.nlm.nih.gov/traces/refseq/GL000193.1'),\n",
       " ('GL000194.1',\n",
       "  'https://sra-download.ncbi.nlm.nih.gov/traces/refseq/GL000194.1'),\n",
       " ('GL000205.1',\n",
       "  'https://sra-download.ncbi.nlm.nih.gov/traces/refseq/GL000205.1'),\n",
       " ('GL000206.1',\n",
       "  'https://sra-download.ncbi.nlm.nih.gov/traces/refseq/GL000206.1'),\n",
       " ('GL000235.1',\n",
       "  'https://sra-download.ncbi.nlm.nih.gov/traces/refseq/GL000235.1'),\n",
       " ('GL000226.1',\n",
       "  'https://sra-download.ncbi.nlm.nih.gov/traces/refseq/GL000226.1'),\n",
       " ('GL000204.1',\n",
       "  'https://sra-download.ncbi.nlm.nih.gov/traces/refseq/GL000204.1'),\n",
       " ('CM000667.1',\n",
       "  'https://sra-download.ncbi.nlm.nih.gov/traces/refseq/CM000667.1'),\n",
       " ('CM000684.1',\n",
       "  'https://sra-download.ncbi.nlm.nih.gov/traces/refseq/CM000684.1'),\n",
       " ('CM000669.1',\n",
       "  'https://sra-download.ncbi.nlm.nih.gov/traces/refseq/CM000669.1'),\n",
       " ('GL000212.1',\n",
       "  'https://sra-download.ncbi.nlm.nih.gov/traces/refseq/GL000212.1'),\n",
       " ('NC_007605.1',\n",
       "  'https://sra-download.ncbi.nlm.nih.gov/traces/refseq/NC_007605.1'),\n",
       " ('NC_012920.1',\n",
       "  'https://sra-download.ncbi.nlm.nih.gov/traces/refseq/NC_012920.1'),\n",
       " ('CM000675.1',\n",
       "  'https://sra-download.ncbi.nlm.nih.gov/traces/refseq/CM000675.1'),\n",
       " ('GL000234.1',\n",
       "  'https://sra-download.ncbi.nlm.nih.gov/traces/refseq/GL000234.1'),\n",
       " ('GL000191.1',\n",
       "  'https://sra-download.ncbi.nlm.nih.gov/traces/refseq/GL000191.1'),\n",
       " ('CM000679.1',\n",
       "  'https://sra-download.ncbi.nlm.nih.gov/traces/refseq/CM000679.1'),\n",
       " ('GL000219.1',\n",
       "  'https://sra-download.ncbi.nlm.nih.gov/traces/refseq/GL000219.1'),\n",
       " ('CM000665.1',\n",
       "  'https://sra-download.ncbi.nlm.nih.gov/traces/refseq/CM000665.1'),\n",
       " ('CM000674.1',\n",
       "  'https://sra-download.ncbi.nlm.nih.gov/traces/refseq/CM000674.1'),\n",
       " ('GL000213.1',\n",
       "  'https://sra-download.ncbi.nlm.nih.gov/traces/refseq/GL000213.1'),\n",
       " ('CM000664.1',\n",
       "  'https://sra-download.ncbi.nlm.nih.gov/traces/refseq/CM000664.1'),\n",
       " ('CM000673.1',\n",
       "  'https://sra-download.ncbi.nlm.nih.gov/traces/refseq/CM000673.1'),\n",
       " ('GL000246.1',\n",
       "  'https://sra-download.ncbi.nlm.nih.gov/traces/refseq/GL000246.1'),\n",
       " ('GL000232.1',\n",
       "  'https://sra-download.ncbi.nlm.nih.gov/traces/refseq/GL000232.1'),\n",
       " ('GL000207.1',\n",
       "  'https://sra-download.ncbi.nlm.nih.gov/traces/refseq/GL000207.1'),\n",
       " ('GL000245.1',\n",
       "  'https://sra-download.ncbi.nlm.nih.gov/traces/refseq/GL000245.1'),\n",
       " ('GL000196.1',\n",
       "  'https://sra-download.ncbi.nlm.nih.gov/traces/refseq/GL000196.1'),\n",
       " ('CM000680.1',\n",
       "  'https://sra-download.ncbi.nlm.nih.gov/traces/refseq/CM000680.1'),\n",
       " ('GL000231.1',\n",
       "  'https://sra-download.ncbi.nlm.nih.gov/traces/refseq/GL000231.1'),\n",
       " ('GL000217.1',\n",
       "  'https://sra-download.ncbi.nlm.nih.gov/traces/refseq/GL000217.1'),\n",
       " ('GL000201.1',\n",
       "  'https://sra-download.ncbi.nlm.nih.gov/traces/refseq/GL000201.1'),\n",
       " ('GL000242.1',\n",
       "  'https://sra-download.ncbi.nlm.nih.gov/traces/refseq/GL000242.1'),\n",
       " ('GL000222.1',\n",
       "  'https://sra-download.ncbi.nlm.nih.gov/traces/refseq/GL000222.1'),\n",
       " ('CM000666.1',\n",
       "  'https://sra-download.ncbi.nlm.nih.gov/traces/refseq/CM000666.1'),\n",
       " ('GL000214.1',\n",
       "  'https://sra-download.ncbi.nlm.nih.gov/traces/refseq/GL000214.1'),\n",
       " ('GL000195.1',\n",
       "  'https://sra-download.ncbi.nlm.nih.gov/traces/refseq/GL000195.1'),\n",
       " ('GL000200.1',\n",
       "  'https://sra-download.ncbi.nlm.nih.gov/traces/refseq/GL000200.1'),\n",
       " ('GL000227.1',\n",
       "  'https://sra-download.ncbi.nlm.nih.gov/traces/refseq/GL000227.1'),\n",
       " ('GL000230.1',\n",
       "  'https://sra-download.ncbi.nlm.nih.gov/traces/refseq/GL000230.1'),\n",
       " ('CM000672.1',\n",
       "  'https://sra-download.ncbi.nlm.nih.gov/traces/refseq/CM000672.1'),\n",
       " ('GL000216.1',\n",
       "  'https://sra-download.ncbi.nlm.nih.gov/traces/refseq/GL000216.1'),\n",
       " ('GL000208.1',\n",
       "  'https://sra-download.ncbi.nlm.nih.gov/traces/refseq/GL000208.1'),\n",
       " ('CM000683.1',\n",
       "  'https://sra-download.ncbi.nlm.nih.gov/traces/refseq/CM000683.1'),\n",
       " ('GL000211.1',\n",
       "  'https://sra-download.ncbi.nlm.nih.gov/traces/refseq/GL000211.1'),\n",
       " ('CM000671.1',\n",
       "  'https://sra-download.ncbi.nlm.nih.gov/traces/refseq/CM000671.1'),\n",
       " ('GL000215.1',\n",
       "  'https://sra-download.ncbi.nlm.nih.gov/traces/refseq/GL000215.1'),\n",
       " ('CM000668.1',\n",
       "  'https://sra-download.ncbi.nlm.nih.gov/traces/refseq/CM000668.1'),\n",
       " ('GL000223.1',\n",
       "  'https://sra-download.ncbi.nlm.nih.gov/traces/refseq/GL000223.1'),\n",
       " ('GL000233.1',\n",
       "  'https://sra-download.ncbi.nlm.nih.gov/traces/refseq/GL000233.1'),\n",
       " ('CM000663.1',\n",
       "  'https://sra-download.ncbi.nlm.nih.gov/traces/refseq/CM000663.1'),\n",
       " ('GL000202.1',\n",
       "  'https://sra-download.ncbi.nlm.nih.gov/traces/refseq/GL000202.1'),\n",
       " ('GL000248.1',\n",
       "  'https://sra-download.ncbi.nlm.nih.gov/traces/refseq/GL000248.1'),\n",
       " ('CM000681.1',\n",
       "  'https://sra-download.ncbi.nlm.nih.gov/traces/refseq/CM000681.1'),\n",
       " ('GL000229.1',\n",
       "  'https://sra-download.ncbi.nlm.nih.gov/traces/refseq/GL000229.1'),\n",
       " ('GL000218.1',\n",
       "  'https://sra-download.ncbi.nlm.nih.gov/traces/refseq/GL000218.1'),\n",
       " ('GL000247.1',\n",
       "  'https://sra-download.ncbi.nlm.nih.gov/traces/refseq/GL000247.1'),\n",
       " ('CM000682.1',\n",
       "  'https://sra-download.ncbi.nlm.nih.gov/traces/refseq/CM000682.1'),\n",
       " ('GL000249.1',\n",
       "  'https://sra-download.ncbi.nlm.nih.gov/traces/refseq/GL000249.1'),\n",
       " ('GL000198.1',\n",
       "  'https://sra-download.ncbi.nlm.nih.gov/traces/refseq/GL000198.1'),\n",
       " ('CM000677.1',\n",
       "  'https://sra-download.ncbi.nlm.nih.gov/traces/refseq/CM000677.1'),\n",
       " ('GL000237.1',\n",
       "  'https://sra-download.ncbi.nlm.nih.gov/traces/refseq/GL000237.1'),\n",
       " ('CM000686.1',\n",
       "  'https://sra-download.ncbi.nlm.nih.gov/traces/refseq/CM000686.1'),\n",
       " ('GL000244.1',\n",
       "  'https://sra-download.ncbi.nlm.nih.gov/traces/refseq/GL000244.1'),\n",
       " ('GL000192.1',\n",
       "  'https://sra-download.ncbi.nlm.nih.gov/traces/refseq/GL000192.1'),\n",
       " ('GL000243.1',\n",
       "  'https://sra-download.ncbi.nlm.nih.gov/traces/refseq/GL000243.1'),\n",
       " ('CM000676.1',\n",
       "  'https://sra-download.ncbi.nlm.nih.gov/traces/refseq/CM000676.1'),\n",
       " ('GL000225.1',\n",
       "  'https://sra-download.ncbi.nlm.nih.gov/traces/refseq/GL000225.1'),\n",
       " ('GL000221.1',\n",
       "  'https://sra-download.ncbi.nlm.nih.gov/traces/refseq/GL000221.1'),\n",
       " ('GL000224.1',\n",
       "  'https://sra-download.ncbi.nlm.nih.gov/traces/refseq/GL000224.1'),\n",
       " ('CM000678.1',\n",
       "  'https://sra-download.ncbi.nlm.nih.gov/traces/refseq/CM000678.1'),\n",
       " ('GL000228.1',\n",
       "  'https://sra-download.ncbi.nlm.nih.gov/traces/refseq/GL000228.1'),\n",
       " ('GL000240.1',\n",
       "  'https://sra-download.ncbi.nlm.nih.gov/traces/refseq/GL000240.1'),\n",
       " ('GL000199.1',\n",
       "  'https://sra-download.ncbi.nlm.nih.gov/traces/refseq/GL000199.1'),\n",
       " ('CM000670.1',\n",
       "  'https://sra-download.ncbi.nlm.nih.gov/traces/refseq/CM000670.1'),\n",
       " ('GL000197.1',\n",
       "  'https://sra-download.ncbi.nlm.nih.gov/traces/refseq/GL000197.1'),\n",
       " ('GL000203.1',\n",
       "  'https://sra-download.ncbi.nlm.nih.gov/traces/refseq/GL000203.1'),\n",
       " ('CM000685.1',\n",
       "  'https://sra-download.ncbi.nlm.nih.gov/traces/refseq/CM000685.1'),\n",
       " ('GL000241.1',\n",
       "  'https://sra-download.ncbi.nlm.nih.gov/traces/refseq/GL000241.1')]"
      ]
     },
     "execution_count": 50,
     "metadata": {},
     "output_type": "execute_result"
    }
   ],
   "source": [
    "unique_pairs"
   ]
  }
 ],
 "metadata": {
  "kernelspec": {
   "display_name": "snakemake",
   "language": "python",
   "name": "python3"
  },
  "language_info": {
   "codemirror_mode": {
    "name": "ipython",
    "version": 3
   },
   "file_extension": ".py",
   "mimetype": "text/x-python",
   "name": "python",
   "nbconvert_exporter": "python",
   "pygments_lexer": "ipython3",
   "version": "3.11.4"
  },
  "orig_nbformat": 4
 },
 "nbformat": 4,
 "nbformat_minor": 2
}
